{
 "cells": [
  {
   "cell_type": "code",
   "execution_count": 1,
   "metadata": {
    "execution": {
     "iopub.execute_input": "2023-05-27T12:35:43.742399Z",
     "iopub.status.busy": "2023-05-27T12:35:43.742112Z",
     "iopub.status.idle": "2023-05-27T12:35:45.506421Z",
     "shell.execute_reply": "2023-05-27T12:35:45.505333Z",
     "shell.execute_reply.started": "2023-05-27T12:35:43.742375Z"
    }
   },
   "outputs": [],
   "source": [
    "import gc\n",
    "import pandas as pd\n",
    "import numpy as np\n",
    "\n",
    "import matplotlib as mpl\n",
    "import matplotlib.pyplot as plt\n",
    "mpl.rc('axes', labelsize=14)\n",
    "mpl.rc('xtick', labelsize=12)\n",
    "mpl.rc('ytick', labelsize=12)\n",
    "\n",
    "import seaborn as sns\n",
    "sns.set(style='whitegrid')\n",
    "sns.set(rc={'figure.figsize':(17, 9)})\n",
    "\n",
    "import catboost\n",
    "from catboost import CatBoostClassifier, CatBoostRegressor, Pool\n",
    "from sklearn.model_selection import train_test_split\n",
    "from sklearn.metrics import r2_score \n",
    "from sklearn.metrics import mean_squared_error\n",
    "\n",
    "RAND = 10"
   ]
  },
  {
   "cell_type": "code",
   "execution_count": 2,
   "metadata": {
    "execution": {
     "iopub.execute_input": "2023-05-27T12:35:45.508090Z",
     "iopub.status.busy": "2023-05-27T12:35:45.507760Z",
     "iopub.status.idle": "2023-05-27T12:57:30.604168Z",
     "shell.execute_reply": "2023-05-27T12:57:30.603028Z",
     "shell.execute_reply.started": "2023-05-27T12:35:45.508061Z"
    }
   },
   "outputs": [],
   "source": [
    "# df_cabin = pd.concat([pd.read_csv('/kaggle/input/cabin-2018/CABIN_2018 (1).csv', sep=';'), pd.read_csv('/kaggle/input/cabin-2019/CABIN_2019.csv', sep=';')]).reset_index(drop= True)\n",
    "# df_cabin.columns = df_cabin.columns.str.lower()\n",
    "# df_cabin['dep_date'] = pd.to_datetime(df_cabin['dep_date'])\n",
    "# # df_cabin['dat_s'] = pd.to_datetime(df_cabin['dat_s'])\n",
    "# df_cabin['seg_orig'] = df_cabin['seg_orig'].map(str.strip)\n",
    "# df_cabin['seg_dest'] = df_cabin['seg_dest'].map(str.strip)\n",
    "# df_cabin['ssc'] = df_cabin['ssc'].map(str.strip)\n",
    "# df_cabin['cap'] = df_cabin['cap'].map(str.strip)\n",
    "# df_cabin['ual'] = df_cabin['ual'].map(str.strip)\n",
    "# df_cabin['ual'] = df_cabin['ual'].map(str.strip)\n",
    "# df_cabin['equip'] = df_cabin['equip'].map(str.strip)\n",
    "# df_cabin.drop(['dat_s', 'sak', 'lgnum'], 1, inplace=True)\n",
    "\n",
    "# df = pd.DataFrame()\n",
    "\n",
    "# for i_y in range(2018, 2020):\n",
    "#   for i_m in range(1, 13):\n",
    "#     if i_m < 10:\n",
    "#       df_class = pd.read_csv(f'/kaggle/input/data-class/CLASS_0{i_m}{i_y}/CLASS_0{i_m}{i_y}.csv', sep=';')\n",
    "#     else:\n",
    "#       df_class = pd.read_csv(f'/kaggle/input/data-class/CLASS_{i_m}{i_y}/CLASS_{i_m}{i_y}.csv', sep=';')\n",
    "\n",
    "#     df_class.columns = df_class.columns.str.lower()\n",
    "# #     df_class['sdat_s'] = pd.to_datetime(df_class['sdat_s'])\n",
    "#     df_class['dd'] = pd.to_datetime(df_class['dd'])\n",
    "\n",
    "#     df_class.drop(['sdat_s', 'sak', 'seg_num'], 1, inplace=True)\n",
    "\n",
    "#     df_class['sorg'] = df_class['sorg'].map(str.strip)\n",
    "#     df_class['sdst'] = df_class['sdst'].map(str.strip)\n",
    "#     df_class['sscl1'] = df_class['sscl1'].map(str.strip)\n",
    "#     df_class['seg_class_code'] = df_class['seg_class_code'].map(str.strip)\n",
    "#     df_class['nbcl'] = df_class['nbcl'].map(str.strip)\n",
    "\n",
    "#     df0 = pd.merge(df_class, df_cabin, left_on=['flt_num', 'dd', 'sorg', 'sdst', 'dtd'], right_on=['flt_num', 'dep_date', 'seg_orig', 'seg_dest', 'dtd'])\n",
    "\n",
    "#     df0['weekday'] = [m.dayofweek for m in df0['dd']]\n",
    "#     df0['month'] = [m.month for m in df0['dd']]\n",
    "#     df0['year'] = [m.year for m in df0['dd']]\n",
    "#     # df0['dtd'] = [dtd//10 for dtd in df0['dtd']]\n",
    "#     df0['tt_dep'] = [tt//400 for tt in df0['tt_dep']]\n",
    "#     df0['tt_arr'] = [tt//400 for tt in df0['tt_arr']]\n",
    "\n",
    "#     df0.drop(['seg_orig', 'ns', 'fclcld', 'ssc', 'seg_dest', 'dep_date', 'nbcl', 'cap', 'ual', 'sal', 'dd', 'sa', 'au'], 1, inplace=True)\n",
    "#     df0 = df0.astype({'flt_num': np.uint16, 'pass_bk':np.uint16, 'pass_dep': np.uint16, 'dtd': np.int16, 'tt_dep': np.uint8, 'tt_arr': np.uint8, 'weekday': np.uint8, 'month': np.uint8, 'year': np.uint16})\n",
    "\n",
    "#     df = pd.concat([df, df0])\n",
    "\n",
    "# compression_opts = dict(method='zip',\n",
    "#                         archive_name='df.csv')  \n",
    "\n",
    "\n",
    "# df.to_csv('df.zip', index=False, compression=compression_opts)"
   ]
  },
  {
   "cell_type": "code",
   "execution_count": 2,
   "metadata": {
    "execution": {
     "iopub.execute_input": "2023-05-27T12:57:30.660825Z",
     "iopub.status.busy": "2023-05-27T12:57:30.660317Z"
    }
   },
   "outputs": [],
   "source": [
    "df = pd.read_csv(open(r'C:\\Users\\Dima\\Downloads\\Telegram Desktop\\df (1)\\df.csv'))\n",
    "df_ml_pass_dep = df[df['dtd'] == -1].drop(['pass_bk', 'dtd'], axis=1)\n",
    "df = df.drop(['pass_dep'], axis=1)"
   ]
  },
  {
   "cell_type": "code",
   "execution_count": 12,
   "metadata": {},
   "outputs": [
    {
     "name": "stdout",
     "output_type": "stream",
     "text": [
      "0:\tlearn: 13.7552445\ttest: 13.6732979\tbest: 13.6732979 (0)\ttotal: 43.6ms\tremaining: 36m 18s\n",
      "5000:\tlearn: 8.0367991\ttest: 8.4195404\tbest: 8.4195219 (4999)\ttotal: 3m 23s\tremaining: 30m 31s\n",
      "10000:\tlearn: 7.6513817\ttest: 8.3736713\tbest: 8.3734789 (9813)\ttotal: 7m 11s\tremaining: 28m 44s\n",
      "bestTest = 8.373478861\n",
      "bestIteration = 9813\n",
      "Shrink model to first 9814 iterations.\n"
     ]
    },
    {
     "data": {
      "text/plain": [
       "<catboost.core.CatBoostRegressor at 0x1f366123b90>"
      ]
     },
     "execution_count": 12,
     "metadata": {},
     "output_type": "execute_result"
    }
   ],
   "source": [
    "y, X = df_ml_pass_dep.pass_dep, df_ml_pass_dep.drop(['year', 'flt_num', 'pass_dep'], axis=1)\n",
    "\n",
    "X_train, X_test, y_train, y_test = train_test_split(X, y, test_size=0.2, random_state=RAND)\n",
    "X_train, X_val, y_train, y_val = train_test_split(X_train, y_train, test_size=0.25, random_state=RAND)\n",
    "\n",
    "cat_features = ['equip', 'sscl1', 'seg_class_code', 'sdst', 'sorg']\n",
    "# 'weekday', 'month', 'tt_dep', 'tt_arr',\n",
    "train_pool = Pool(data=X_train, label=y_train, cat_features=cat_features)\n",
    "validation_pool = Pool(data=X_val, label=y_val, cat_features=cat_features)\n",
    "\n",
    "model_pass_dep = CatBoostRegressor(\n",
    "    iterations=50000, \n",
    "    random_seed=RAND, \n",
    "    task_type='GPU',\n",
    "    learning_rate=0.01,\n",
    "    use_best_model=True,\n",
    "    early_stopping_rounds=500,\n",
    "    depth=9)\n",
    "model_pass_dep.fit(\n",
    "    train_pool, \n",
    "    eval_set=validation_pool,\n",
    "    verbose=5000)"
   ]
  },
  {
   "cell_type": "code",
   "execution_count": 13,
   "metadata": {},
   "outputs": [
    {
     "data": {
      "text/plain": [
       "{'learn': {'RMSE': 7.631597067151796},\n",
       " 'validation': {'RMSE': 8.37347886105613}}"
      ]
     },
     "execution_count": 13,
     "metadata": {},
     "output_type": "execute_result"
    }
   ],
   "source": [
    "model_pass_dep.best_score_"
   ]
  },
  {
   "cell_type": "code",
   "execution_count": 14,
   "metadata": {},
   "outputs": [
    {
     "data": {
      "text/plain": [
       "9813"
      ]
     },
     "execution_count": 14,
     "metadata": {},
     "output_type": "execute_result"
    }
   ],
   "source": [
    "model_pass_dep.best_iteration_"
   ]
  },
  {
   "cell_type": "code",
   "execution_count": 15,
   "metadata": {},
   "outputs": [
    {
     "data": {
      "text/html": [
       "<div>\n",
       "<style scoped>\n",
       "    .dataframe tbody tr th:only-of-type {\n",
       "        vertical-align: middle;\n",
       "    }\n",
       "\n",
       "    .dataframe tbody tr th {\n",
       "        vertical-align: top;\n",
       "    }\n",
       "\n",
       "    .dataframe thead th {\n",
       "        text-align: right;\n",
       "    }\n",
       "</style>\n",
       "<table border=\"1\" class=\"dataframe\">\n",
       "  <thead>\n",
       "    <tr style=\"text-align: right;\">\n",
       "      <th></th>\n",
       "      <th>Feature Id</th>\n",
       "      <th>Importances</th>\n",
       "    </tr>\n",
       "  </thead>\n",
       "  <tbody>\n",
       "    <tr>\n",
       "      <th>0</th>\n",
       "      <td>seg_class_code</td>\n",
       "      <td>56.134148</td>\n",
       "    </tr>\n",
       "    <tr>\n",
       "      <th>1</th>\n",
       "      <td>month</td>\n",
       "      <td>12.340629</td>\n",
       "    </tr>\n",
       "    <tr>\n",
       "      <th>2</th>\n",
       "      <td>equip</td>\n",
       "      <td>9.114389</td>\n",
       "    </tr>\n",
       "    <tr>\n",
       "      <th>3</th>\n",
       "      <td>weekday</td>\n",
       "      <td>5.313152</td>\n",
       "    </tr>\n",
       "    <tr>\n",
       "      <th>4</th>\n",
       "      <td>tt_arr</td>\n",
       "      <td>3.661820</td>\n",
       "    </tr>\n",
       "    <tr>\n",
       "      <th>5</th>\n",
       "      <td>tt_dep</td>\n",
       "      <td>3.646850</td>\n",
       "    </tr>\n",
       "    <tr>\n",
       "      <th>6</th>\n",
       "      <td>sscl1</td>\n",
       "      <td>3.537700</td>\n",
       "    </tr>\n",
       "    <tr>\n",
       "      <th>7</th>\n",
       "      <td>sorg</td>\n",
       "      <td>3.379240</td>\n",
       "    </tr>\n",
       "    <tr>\n",
       "      <th>8</th>\n",
       "      <td>sdst</td>\n",
       "      <td>2.872073</td>\n",
       "    </tr>\n",
       "  </tbody>\n",
       "</table>\n",
       "</div>"
      ],
      "text/plain": [
       "       Feature Id  Importances\n",
       "0  seg_class_code    56.134148\n",
       "1           month    12.340629\n",
       "2           equip     9.114389\n",
       "3         weekday     5.313152\n",
       "4          tt_arr     3.661820\n",
       "5          tt_dep     3.646850\n",
       "6           sscl1     3.537700\n",
       "7            sorg     3.379240\n",
       "8            sdst     2.872073"
      ]
     },
     "execution_count": 15,
     "metadata": {},
     "output_type": "execute_result"
    }
   ],
   "source": [
    "model_pass_dep.get_feature_importance(prettified=True)"
   ]
  },
  {
   "cell_type": "code",
   "execution_count": 16,
   "metadata": {},
   "outputs": [],
   "source": [
    "raw_pred = model_pass_dep.predict(X_test)"
   ]
  },
  {
   "cell_type": "code",
   "execution_count": 17,
   "metadata": {},
   "outputs": [
    {
     "data": {
      "text/plain": [
       "0.6271263187515241"
      ]
     },
     "execution_count": 17,
     "metadata": {},
     "output_type": "execute_result"
    }
   ],
   "source": [
    "r2_score(y_test, raw_pred)"
   ]
  },
  {
   "cell_type": "code",
   "execution_count": 18,
   "metadata": {},
   "outputs": [
    {
     "data": {
      "text/plain": [
       "69.06154250544512"
      ]
     },
     "execution_count": 18,
     "metadata": {},
     "output_type": "execute_result"
    }
   ],
   "source": [
    "mean_squared_error(y_test, raw_pred)"
   ]
  },
  {
   "cell_type": "code",
   "execution_count": 10,
   "metadata": {},
   "outputs": [],
   "source": [
    "model_pass_dep.save_model('model_pass_dep.cbm', format='cbm')"
   ]
  },
  {
   "cell_type": "code",
   "execution_count": 68,
   "metadata": {},
   "outputs": [
    {
     "data": {
      "text/plain": [
       "Index(['flt_num', 'sorg', 'sdst', 'sscl1', 'seg_class_code', 'pass_bk', 'dtd',\n",
       "       'tt_dep', 'tt_arr', 'equip', 'weekday', 'month', 'year'],\n",
       "      dtype='object')"
      ]
     },
     "execution_count": 68,
     "metadata": {},
     "output_type": "execute_result"
    }
   ],
   "source": [
    "df.columns"
   ]
  },
  {
   "cell_type": "code",
   "execution_count": 4,
   "metadata": {},
   "outputs": [],
   "source": [
    "df = df.groupby(['flt_num', 'sorg', 'sdst', 'sscl1', 'pass_bk', 'dtd', 'tt_dep', 'tt_arr', 'equip', 'weekday', 'month', 'year']).agg(pass_bk_sum = ('pass_bk', 'sum')).reset_index()"
   ]
  },
  {
   "cell_type": "code",
   "execution_count": 5,
   "metadata": {},
   "outputs": [],
   "source": [
    "df = df.drop(['pass_bk'], axis=1)"
   ]
  },
  {
   "cell_type": "code",
   "execution_count": 6,
   "metadata": {},
   "outputs": [
    {
     "data": {
      "text/plain": [
       "Index(['flt_num', 'sorg', 'sdst', 'sscl1', 'dtd', 'tt_dep', 'tt_arr', 'equip',\n",
       "       'weekday', 'month', 'year', 'pass_bk_sum'],\n",
       "      dtype='object')"
      ]
     },
     "execution_count": 6,
     "metadata": {},
     "output_type": "execute_result"
    }
   ],
   "source": [
    "df.columns"
   ]
  },
  {
   "cell_type": "code",
   "execution_count": 7,
   "metadata": {},
   "outputs": [
    {
     "data": {
      "text/plain": [
       "Index(['flt_num', 'sorg', 'sdst', 'sscl1', 'seg_class_code', 'pass_dep',\n",
       "       'tt_dep', 'tt_arr', 'equip', 'weekday', 'month', 'year'],\n",
       "      dtype='object')"
      ]
     },
     "execution_count": 7,
     "metadata": {},
     "output_type": "execute_result"
    }
   ],
   "source": [
    "df_ml_pass_dep.columns"
   ]
  },
  {
   "cell_type": "code",
   "execution_count": 8,
   "metadata": {},
   "outputs": [],
   "source": [
    "# df_ml_pass_dep = df_ml_pass_dep.drop(['seg_class_code'], axis=1)\n",
    "# df = pd.merge(df, df_ml_pass_dep, on=['flt_num', 'sorg', 'sdst', 'sscl1', 'tt_dep', 'tt_arr', 'equip', 'weekday', 'month', 'year'])"
   ]
  },
  {
   "cell_type": "code",
   "execution_count": 9,
   "metadata": {},
   "outputs": [],
   "source": [
    "y, X = df.pass_bk_sum, df.drop(['year', 'flt_num', 'pass_bk_sum'], axis=1)"
   ]
  },
  {
   "cell_type": "code",
   "execution_count": 10,
   "metadata": {},
   "outputs": [],
   "source": [
    "X_train, X_test, y_train, y_test = train_test_split(X, y, test_size=0.2, random_state=RAND)\n",
    "X_train, X_val, y_train, y_val = train_test_split(X_train, y_train, test_size=0.25, random_state=RAND)"
   ]
  },
  {
   "cell_type": "code",
   "execution_count": 11,
   "metadata": {},
   "outputs": [],
   "source": [
    "cat_features = ['equip', 'sdst', 'sorg', 'sscl1']\n",
    "train_pool = Pool(data=X_train, label=y_train, cat_features=cat_features)\n",
    "validation_pool = Pool(data=X_test, label=y_test, cat_features=cat_features)"
   ]
  },
  {
   "cell_type": "code",
   "execution_count": 47,
   "metadata": {},
   "outputs": [
    {
     "name": "stdout",
     "output_type": "stream",
     "text": [
      "<class 'pandas.core.frame.DataFrame'>\n",
      "Index: 7263633 entries, 7352445 to 2519454\n",
      "Data columns (total 8 columns):\n",
      " #   Column   Dtype \n",
      "---  ------   ----- \n",
      " 0   sorg     object\n",
      " 1   sdst     object\n",
      " 2   dtd      int64 \n",
      " 3   tt_dep   int64 \n",
      " 4   tt_arr   int64 \n",
      " 5   equip    object\n",
      " 6   weekday  int64 \n",
      " 7   month    int64 \n",
      "dtypes: int64(5), object(3)\n",
      "memory usage: 498.8+ MB\n"
     ]
    }
   ],
   "source": [
    "X_train.info()"
   ]
  },
  {
   "cell_type": "code",
   "execution_count": 12,
   "metadata": {},
   "outputs": [
    {
     "name": "stdout",
     "output_type": "stream",
     "text": [
      "0:\tlearn: 11.6781650\ttest: 11.6861698\tbest: 11.6861698 (0)\ttotal: 754ms\tremaining: 1h 2m 49s\n",
      "500:\tlearn: 10.3383688\ttest: 10.3477685\tbest: 10.3477685 (500)\ttotal: 5m 25s\tremaining: 48m 40s\n",
      "1000:\tlearn: 10.3145808\ttest: 10.3261313\tbest: 10.3261303 (999)\ttotal: 10m 42s\tremaining: 42m 46s\n",
      "1500:\tlearn: 10.3015939\ttest: 10.3149676\tbest: 10.3149661 (1499)\ttotal: 16m 8s\tremaining: 37m 38s\n",
      "2000:\tlearn: 10.2926389\ttest: 10.3076877\tbest: 10.3076877 (2000)\ttotal: 21m 48s\tremaining: 32m 41s\n",
      "2500:\tlearn: 10.2857320\ttest: 10.3024638\tbest: 10.3024589 (2498)\ttotal: 27m 37s\tremaining: 27m 36s\n",
      "3000:\tlearn: 10.2802127\ttest: 10.2985869\tbest: 10.2985869 (3000)\ttotal: 33m 30s\tremaining: 22m 19s\n",
      "3500:\tlearn: 10.2752198\ttest: 10.2952551\tbest: 10.2952541 (3499)\ttotal: 39m 19s\tremaining: 16m 50s\n",
      "4000:\tlearn: 10.2709767\ttest: 10.2926053\tbest: 10.2926053 (4000)\ttotal: 45m 1s\tremaining: 11m 14s\n",
      "4500:\tlearn: 10.2672886\ttest: 10.2905377\tbest: 10.2905377 (4500)\ttotal: 50m 48s\tremaining: 5m 38s\n",
      "4999:\tlearn: 10.2640789\ttest: 10.2887686\tbest: 10.2887652 (4995)\ttotal: 56m 32s\tremaining: 0us\n",
      "bestTest = 10.28876515\n",
      "bestIteration = 4995\n",
      "Shrink model to first 4996 iterations.\n"
     ]
    },
    {
     "data": {
      "text/plain": [
       "<catboost.core.CatBoostRegressor at 0x12ee185f190>"
      ]
     },
     "execution_count": 12,
     "metadata": {},
     "output_type": "execute_result"
    }
   ],
   "source": [
    "model = CatBoostRegressor(\n",
    "    iterations=5000, \n",
    "    task_type='GPU',\n",
    "    random_seed=RAND, \n",
    "    learning_rate=0.05, \n",
    "    use_best_model=True,\n",
    "    early_stopping_rounds=50,\n",
    "    depth=7)\n",
    "model.fit(\n",
    "    train_pool, \n",
    "    eval_set=validation_pool,\n",
    "    verbose=500\n",
    ")"
   ]
  },
  {
   "cell_type": "code",
   "execution_count": 15,
   "metadata": {},
   "outputs": [
    {
     "data": {
      "text/plain": [
       "4995"
      ]
     },
     "execution_count": 15,
     "metadata": {},
     "output_type": "execute_result"
    }
   ],
   "source": [
    "model.best_iteration_"
   ]
  },
  {
   "cell_type": "code",
   "execution_count": 16,
   "metadata": {},
   "outputs": [
    {
     "data": {
      "text/html": [
       "<div>\n",
       "<style scoped>\n",
       "    .dataframe tbody tr th:only-of-type {\n",
       "        vertical-align: middle;\n",
       "    }\n",
       "\n",
       "    .dataframe tbody tr th {\n",
       "        vertical-align: top;\n",
       "    }\n",
       "\n",
       "    .dataframe thead th {\n",
       "        text-align: right;\n",
       "    }\n",
       "</style>\n",
       "<table border=\"1\" class=\"dataframe\">\n",
       "  <thead>\n",
       "    <tr style=\"text-align: right;\">\n",
       "      <th></th>\n",
       "      <th>Feature Id</th>\n",
       "      <th>Importances</th>\n",
       "    </tr>\n",
       "  </thead>\n",
       "  <tbody>\n",
       "    <tr>\n",
       "      <th>0</th>\n",
       "      <td>sscl1</td>\n",
       "      <td>43.999299</td>\n",
       "    </tr>\n",
       "    <tr>\n",
       "      <th>1</th>\n",
       "      <td>dtd</td>\n",
       "      <td>17.041089</td>\n",
       "    </tr>\n",
       "    <tr>\n",
       "      <th>2</th>\n",
       "      <td>equip</td>\n",
       "      <td>11.015320</td>\n",
       "    </tr>\n",
       "    <tr>\n",
       "      <th>3</th>\n",
       "      <td>month</td>\n",
       "      <td>9.445063</td>\n",
       "    </tr>\n",
       "    <tr>\n",
       "      <th>4</th>\n",
       "      <td>sorg</td>\n",
       "      <td>4.384703</td>\n",
       "    </tr>\n",
       "    <tr>\n",
       "      <th>5</th>\n",
       "      <td>tt_dep</td>\n",
       "      <td>4.089823</td>\n",
       "    </tr>\n",
       "    <tr>\n",
       "      <th>6</th>\n",
       "      <td>weekday</td>\n",
       "      <td>3.906906</td>\n",
       "    </tr>\n",
       "    <tr>\n",
       "      <th>7</th>\n",
       "      <td>tt_arr</td>\n",
       "      <td>3.746849</td>\n",
       "    </tr>\n",
       "    <tr>\n",
       "      <th>8</th>\n",
       "      <td>sdst</td>\n",
       "      <td>2.370948</td>\n",
       "    </tr>\n",
       "  </tbody>\n",
       "</table>\n",
       "</div>"
      ],
      "text/plain": [
       "  Feature Id  Importances\n",
       "0      sscl1    43.999299\n",
       "1        dtd    17.041089\n",
       "2      equip    11.015320\n",
       "3      month     9.445063\n",
       "4       sorg     4.384703\n",
       "5     tt_dep     4.089823\n",
       "6    weekday     3.906906\n",
       "7     tt_arr     3.746849\n",
       "8       sdst     2.370948"
      ]
     },
     "execution_count": 16,
     "metadata": {},
     "output_type": "execute_result"
    }
   ],
   "source": [
    "model.get_feature_importance(prettified=True)"
   ]
  },
  {
   "cell_type": "code",
   "execution_count": 17,
   "metadata": {},
   "outputs": [],
   "source": [
    "raw_pred = model.predict(\n",
    "  X_test\n",
    ")"
   ]
  },
  {
   "cell_type": "code",
   "execution_count": 18,
   "metadata": {},
   "outputs": [
    {
     "data": {
      "text/plain": [
       "0.2394877397827675"
      ]
     },
     "execution_count": 18,
     "metadata": {},
     "output_type": "execute_result"
    }
   ],
   "source": [
    "r2_score(y_test, raw_pred)"
   ]
  },
  {
   "cell_type": "code",
   "execution_count": 19,
   "metadata": {},
   "outputs": [
    {
     "data": {
      "text/plain": [
       "105.85889265250422"
      ]
     },
     "execution_count": 19,
     "metadata": {},
     "output_type": "execute_result"
    }
   ],
   "source": [
    "mean_squared_error(y_test, raw_pred)"
   ]
  },
  {
   "cell_type": "code",
   "execution_count": 20,
   "metadata": {},
   "outputs": [],
   "source": [
    "model.save_model('model.cbm', format='cbm')"
   ]
  },
  {
   "cell_type": "code",
   "execution_count": 21,
   "metadata": {},
   "outputs": [
    {
     "data": {
      "text/plain": [
       "Index(['sorg', 'sdst', 'sscl1', 'dtd', 'tt_dep', 'tt_arr', 'equip', 'weekday',\n",
       "       'month'],\n",
       "      dtype='object')"
      ]
     },
     "execution_count": 21,
     "metadata": {},
     "output_type": "execute_result"
    }
   ],
   "source": [
    "X_test.columns"
   ]
  },
  {
   "cell_type": "code",
   "execution_count": 23,
   "metadata": {},
   "outputs": [
    {
     "data": {
      "text/plain": [
       "array(['Y', 'C'], dtype=object)"
      ]
     },
     "execution_count": 23,
     "metadata": {},
     "output_type": "execute_result"
    }
   ],
   "source": [
    "X_test.sscl1.unique()"
   ]
  },
  {
   "cell_type": "code",
   "execution_count": 25,
   "metadata": {},
   "outputs": [
    {
     "data": {
      "text/plain": [
       "285"
      ]
     },
     "execution_count": 25,
     "metadata": {},
     "output_type": "execute_result"
    }
   ],
   "source": [
    "X_test.dtd.max()"
   ]
  },
  {
   "cell_type": "code",
   "execution_count": null,
   "metadata": {},
   "outputs": [],
   "source": []
  }
 ],
 "metadata": {
  "kernelspec": {
   "display_name": "Python 3 (ipykernel)",
   "language": "python",
   "name": "python3"
  },
  "language_info": {
   "codemirror_mode": {
    "name": "ipython",
    "version": 3
   },
   "file_extension": ".py",
   "mimetype": "text/x-python",
   "name": "python",
   "nbconvert_exporter": "python",
   "pygments_lexer": "ipython3",
   "version": "3.11.3"
  }
 },
 "nbformat": 4,
 "nbformat_minor": 4
}
